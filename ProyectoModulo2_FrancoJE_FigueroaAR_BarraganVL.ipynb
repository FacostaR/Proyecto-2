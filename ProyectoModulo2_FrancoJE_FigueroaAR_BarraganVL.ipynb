{
 "cells": [
  {
   "cell_type": "markdown",
   "metadata": {},
   "source": [
    "# Proyecto Modulo 2\n",
    "\n",
    "# Amortización de un automóvil "
   ]
  },
  {
   "cell_type": "markdown",
   "metadata": {},
   "source": [
    "<font color=\"cian\">**Objetivo general**</font>\n",
    "\n",
    "\n",
    "+ Buscar la mejor opción para sacar un automóvil a crédito considerando tres opciones como las principales.\n",
    "\n",
    "\n",
    "<font color=\"cian\">**Objetivos específicos**</font>\n",
    "\n",
    "+ Analizar las tres diferentes opciones que pueden considerarse como las mejores para obtener así un automóvil nuevo.\n",
    "\n",
    "+ Realizar comparaciones entre ellas de acuerdo a las tasas de interés que manejan, así como los pagos que se harán cada mes.\n",
    "\n",
    "+ Concluir respecto a cada variable que se requiere al pagar para entonces sacar el auto en la opción que más convenga.\n",
    "\n",
    "\n",
    "\n"
   ]
  },
  {
   "cell_type": "markdown",
   "metadata": {},
   "source": [
    "<font color=\"blue\">**Problema a amortizar**</font>\n",
    "\n",
    "Una persona desea comprar a crédito un automóvil Ford Figo 2018 energy TM de 5 puertas 1.5 L con precio de contado de $\\$208,300$ pero requiere hacerlo a crédito buscando entre tres opciones que le parecen las mejores; estas son:\n",
    "+ En la agencia\n",
    "+ En banco Banamex\n",
    "+ En banco Santander"
   ]
  },
  {
   "cell_type": "markdown",
   "metadata": {},
   "source": [
    "** Agencia**"
   ]
  },
  {
   "cell_type": "code",
   "execution_count": null,
   "metadata": {},
   "outputs": [],
   "source": []
  },
  {
   "cell_type": "markdown",
   "metadata": {},
   "source": [
    "**Banamex**"
   ]
  },
  {
   "cell_type": "code",
   "execution_count": null,
   "metadata": {},
   "outputs": [],
   "source": []
  },
  {
   "cell_type": "markdown",
   "metadata": {},
   "source": [
    "**Santander**"
   ]
  },
  {
   "cell_type": "code",
   "execution_count": null,
   "metadata": {},
   "outputs": [],
   "source": []
  }
 ],
 "metadata": {
  "kernelspec": {
   "display_name": "Python 3",
   "language": "python",
   "name": "python3"
  },
  "language_info": {
   "codemirror_mode": {
    "name": "ipython",
    "version": 3
   },
   "file_extension": ".py",
   "mimetype": "text/x-python",
   "name": "python",
   "nbconvert_exporter": "python",
   "pygments_lexer": "ipython3",
   "version": "3.6.5"
  }
 },
 "nbformat": 4,
 "nbformat_minor": 2
}
